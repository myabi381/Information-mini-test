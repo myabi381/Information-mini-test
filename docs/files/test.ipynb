﻿{
    "cells":  [
                  {
                      "cell_type":  "markdown",
                      "id":  "5e74f204",
                      "metadata":  {

                                   },
                      "source":  [
                                     "# 情報I　ミニテスト"
                                 ]
                  },
                  {
                      "cell_type":  "markdown",
                      "id":  "83f9c81c",
                      "metadata":  {

                                   },
                      "source":  [
                                     "--- \n",
                                     "## 注意事項\n",
                                     "- 名前・出席番号を忘れずに入力してください。  \n",
                                     "- 「問題が解けない」以外の困りごとは質問してください。  \n",
                                     "- 困りそうなところはヒントを置いています。ヒントを参考に問題を解いてください。  \n",
                                     "- CtrlとEnterのキーを同時押しすることでプログラムの実行ができます。\n",
                                     "--- "
                                 ]
                  },
                  {
                      "cell_type":  "markdown",
                      "id":  "b1eec010",
                      "metadata":  {

                                   },
                      "source":  [
                                     "## 名前・出席番号\n",
                                     "**ダブルクリック**すると入力できるようになります。  \n",
                                     "クラス、出席番号は**数字のみ**入力してください。"
                                 ]
                  },
                  {
                      "cell_type":  "markdown",
                      "id":  "0fa8b924",
                      "metadata":  {

                                   },
                      "source":  [
                                     "- クラス　：\n",
                                     "- 出席番号：\n",
                                     "- 名前　　："
                                 ]
                  },
                  {
                      "cell_type":  "markdown",
                      "id":  "64fe9cf1",
                      "metadata":  {

                                   },
                      "source":  [
                                     "---\n",
                                     "### 入力例\n",
                                     "- クラス：9\n",
                                     "- 出席番号：7\n",
                                     "- 名前：北川みやび  \n",
                                     "--- "
                                 ]
                  },
                  {
                      "cell_type":  "markdown",
                      "id":  "e26cb663",
                      "metadata":  {

                                   },
                      "source":  [
                                     "## 問題\n"
                                 ]
                  },
                  {
                      "cell_type":  "markdown",
                      "id":  "c1c64ba8",
                      "metadata":  {

                                   },
                      "source":  [
                                     "### 第1問\n",
                                     "以下の4つの式を Python で計算し，それぞれの結果を出力しなさい。\n",
                                     "\n",
                                     "$\n",
                                     "\\begin{aligned}\n",
                                     "(1)\\;\u0026 (8 + 4) \\div 2 - 3 \\times (5 - 2)\\\\\n",
                                     "(2)\\;\u0026 \\frac{3}{4} + \\frac{5}{6} - \\frac{1}{2}\\\\\n",
                                     "(3)\\;\u0026 2^4 + 3^3\\\\\n",
                                     "(4)\\;\u0026 \\text{25 を 4 で割ったあまり}\n",
                                     "\\end{aligned}\n",
                                     "$\n"
                                 ]
                  },
                  {
                      "cell_type":  "code",
                      "execution_count":  3,
                      "id":  "cb31ec1a",
                      "metadata":  {

                                   },
                      "outputs":  [

                                  ],
                      "source":  [
                                     "#背景が灰色のところはpythonのプログラムをかけるところです。\n",
                                     "#ここで実行するときはCtrlとEnterのキーを同時押ししてください。\n",
                                     "#わからないことがあれば挙手をしてください。\n",
                                     "\n",
                                     "\n",
                                     "\n",
                                     "\n"
                                 ]
                  },
                  {
                      "cell_type":  "markdown",
                      "id":  "5301474f",
                      "metadata":  {

                                   },
                      "source":  [
                                     "### 第2問\n",
                                     "1, 2, 4, 8, …, 512 のように、2倍ずつ大きくなる数をすべて足したときの合計を求めなさい。\n",
                                     "\u003cdetails\u003e\n",
                                     "\u003csummary\u003eヒント\u003c/summary\u003e\n",
                                     "\n",
                                     "1から10までの和は、\n",
                                     "```python\n",
                                     "total = 0\n",
                                     "for i in range(1,11,1):\n",
                                     "    total = total + i\n",
                                     "```\n",
                                     "でした。  \n",
                                     "`i`をそのまま足すと、1+2+3+...+10になってしまうので、うまく2倍していくものを考えましょう。  \n",
                                     "\u003cdetails\u003e\n",
                                     "\u003csummary\u003eヒント2\u003c/summary\u003e\n",
                                     "\n",
                                     "$ 2^0 = 1 $  \n",
                                     "$ 2^1 = 2 $  \n",
                                     "$ 2^2 = 4 $  \n",
                                     "となります。\n",
                                     "\n",
                                     "\u003c/details\u003e\n",
                                     "\u003c/details\u003e"
                                 ]
                  },
                  {
                      "cell_type":  "code",
                      "execution_count":  null,
                      "id":  "f0896bc8",
                      "metadata":  {

                                   },
                      "outputs":  [

                                  ],
                      "source":  [

                                 ]
                  },
                  {
                      "cell_type":  "markdown",
                      "id":  "04189656",
                      "metadata":  {

                                   },
                      "source":  [
                                     "### 問題3\n",
                                     "1から50までの数字で、3の倍数のときは、`Fizz`、5の倍数の時は`Buzz`、15の倍数の時は`FizzBuzz`と表示しなさい。  \n",
                                     "  \n",
                                     "**出力イメージ：**  \n",
                                     "1  \n",
                                     "2  \n",
                                     "Fizz  \n",
                                     "4  \n",
                                     "Buzz  \n",
                                     "Fizz  \n",
                                     "7  \n",
                                     "8  \n",
                                     "Fizz  \n",
                                     "Buzz  \n",
                                     "11  \n",
                                     "Fizz  \n",
                                     "13  \n",
                                     "14  \n",
                                     "FizzBuzz  \n",
                                     "16  \n",
                                     "・  \n",
                                     "・  \n",
                                     "・  \n",
                                     "\u003cdetails\u003e\n",
                                     "\u003csummary\u003eヒント\u003c/summary\u003e\n",
                                     "\n",
                                     "「3の倍数」であることは「3で割り切れる」と同じ意味です。  \n",
                                     "これは5，15の倍数でも同様です。  \n",
                                     "\n",
                                     "\u003cdetails\u003e\n",
                                     "\u003csummary\u003eヒント2\u003c/summary\u003e\n",
                                     "\n",
                                     "「もし3の倍数なら...」という条件分岐は`if`文を使います。  \n",
                                     "「もし、3の倍数なら...。5の倍数なら...」という複数の条件分岐は`if`文以外に`elif`文を使います。\n",
                                     "\n",
                                     "\u003c/details\u003e\n",
                                     "\n",
                                     "\u003c/details\u003e"
                                 ]
                  },
                  {
                      "cell_type":  "code",
                      "execution_count":  null,
                      "id":  "65563fc0",
                      "metadata":  {

                                   },
                      "outputs":  [

                                  ],
                      "source":  [

                                 ]
                  },
                  {
                      "cell_type":  "markdown",
                      "id":  "9fd9b233",
                      "metadata":  {

                                   },
                      "source":  [
                                     "### 問題4\n",
                                     "配列`A`に 8 が含まれているかを調べ、あれば`Yes`、なければ`No`と出力しなさい。\n",
                                     "\n",
                                     "\u003cdetails\u003e \u003csummary\u003eヒント\u003c/summary\u003e\n",
                                     "\n",
                                     "大雑把な考え方として、  \n",
                                     "変数`flag`を作成する。  \n",
                                     "変数`flag`に0を代入する。  \n",
                                     "もし、配列Aのi番目が8と等しいなら、変数`flag`に1を代入する。  \n",
                                     "もし、変数`flag`が0と等しいなら`No`と出力する。  \n",
                                     "そうでないなら、`Yes`と出力する。  \n",
                                     "これをプログラムに落とし込むと答えになる\n",
                                     "\u003c/details\u003e\n"
                                 ]
                  },
                  {
                      "cell_type":  "markdown",
                      "id":  "081a68f9",
                      "metadata":  {

                                   },
                      "source":  [
                                     "\u003cdetails\u003e \u003csummary\u003e配列Aの中身\u003c/summary\u003e\n",
                                     "\n",
                                     "```python\n",
                                     "a = [41, 23, 18, 72, 95, 60, 33, 47, 58, 12, 77, 84, 29, 90, 66, 53, 31, 27, 74, 38, 19, 55, 63, 71, 46, 22, 88, 14, 59, 36, 81, 69, 24, 93, 48, 35, 57, 26, 64, 91, 42, 73, 52, 17, 80, 32, 45, 70, 54, 13, 67, 25, 79, 62, 28, 44, 92, 30, 50, 21, 75, 83, 40, 68, 16, 20, 85, 61, 34, 39, 86, 15, 56, 76, 49, 94, 87, 65, 10, 8, 43, 82, 11, 96, 41, 52]\n",
                                     "```\n",
                                     "\n",
                                     "\u003c/details\u003e"
                                 ]
                  },
                  {
                      "cell_type":  "code",
                      "execution_count":  null,
                      "id":  "3133f991",
                      "metadata":  {

                                   },
                      "outputs":  [

                                  ],
                      "source":  [
                                     "#配列Aをすでに宣言しています。ここは触らないようにしてください。\n",
                                     "A = [\n",
                                     "41, 23, 18, 72, 95, 60, 33, 47, 58, 12, 77, 84, 29, 90, 66, 53, 31, 27, 74, 38,\n",
                                     "19, 55, 63, 71, 46, 22, 88, 14, 59, 36, 81, 69, 24, 93, 48, 35, 57, 26, 64, 91,\n",
                                     "42, 73, 52, 17, 80, 32, 45, 70, 54, 13, 67, 25, 79, 62, 28, 44, 92, 30, 50, 21,\n",
                                     "75, 83, 40, 68, 16, 20, 85, 61, 34, 39, 86, 15, 56, 76, 49, 94, 87, 65, 10, 8,\n",
                                     "43, 82, 11, 96, 41, 52\n",
                                     "]\n",
                                     "#これより下のところからプログラムを書き始めてください。\n",
                                     "\n",
                                     "\n",
                                     "\n",
                                     "\n",
                                     "\n",
                                     "\n"
                                 ]
                  },
                  {
                      "cell_type":  "markdown",
                      "id":  "85eadab7",
                      "metadata":  {

                                   },
                      "source":  [
                                     "---\n",
                                     "\n",
                                     "# 提出方法\n",
                                     "1. 画面の左側の`test.ipynb`を右クリックする。\n",
                                     "2. `Download`を押す。  \n",
                                     "3. ファイルの名前を〇組△番「名前」.ipynbとする　例)9組3番北川みやび.ipynb\n",
                                     "4. フォルダ経由で提出する"
                                 ]
                  }
              ],
    "metadata":  {
                     "kernelspec":  {
                                        "language":  "python",
                                        "display_name":  "Python (Pyodide)",
                                        "name":  "python"
                                    },
                     "language_info":  {
                                           "name":  "python",
                                           "pygments_lexer":  "python",
                                           "codemirror_mode":  {
                                                                   "version":  3,
                                                                   "name":  "ipython"
                                                               }
                                       }
                 },
    "nbformat":  4,
    "nbformat_minor":  5
}
